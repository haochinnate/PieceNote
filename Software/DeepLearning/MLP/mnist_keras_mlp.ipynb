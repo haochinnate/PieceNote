{
 "cells": [
  {
   "cell_type": "code",
   "execution_count": 1,
   "metadata": {},
   "outputs": [
    {
     "name": "stderr",
     "output_type": "stream",
     "text": [
      "Using TensorFlow backend.\n"
     ]
    }
   ],
   "source": [
    "import tensorflow as tf\n",
    "import keras"
   ]
  },
  {
   "cell_type": "code",
   "execution_count": 3,
   "metadata": {},
   "outputs": [
    {
     "name": "stdout",
     "output_type": "stream",
     "text": [
      "Downloading data from https://s3.amazonaws.com/img-datasets/mnist.npz\n",
      "11493376/11490434 [==============================] - 11s 1us/step\n",
      "train data= 60000\n",
      "test data= 10000\n"
     ]
    }
   ],
   "source": [
    "# 下載 MNIST 資料\n",
    "import numpy as np\n",
    "import pandas as pd\n",
    "from keras.utils import np_utils\n",
    "np.random.seed(10)\n",
    "\n",
    "from keras.datasets import mnist\n",
    "(X_train_image, y_train_label), (X_test_image, y_test_label) = mnist.load_data()\n",
    "print('train data=', len(X_train_image))\n",
    "print('test data=', len(X_test_image))"
   ]
  },
  {
   "cell_type": "code",
   "execution_count": 4,
   "metadata": {},
   "outputs": [
    {
     "name": "stdout",
     "output_type": "stream",
     "text": [
      "X_train_image:  (60000, 28, 28)\n",
      "y_train_label:  (60000,)\n"
     ]
    }
   ],
   "source": [
    "# 查看訓練資料\n",
    "print('X_train_image: ', X_train_image.shape)\n",
    "print('y_train_label: ', y_train_label.shape)"
   ]
  },
  {
   "cell_type": "code",
   "execution_count": 6,
   "metadata": {},
   "outputs": [
    {
     "data": {
      "image/png": "[encoded data removed]",
      "text/plain": [
       "<Figure size 144x144 with 1 Axes>"
      ]
     },
     "metadata": {
      "needs_background": "light"
     },
     "output_type": "display_data"
    },
    {
     "data": {
      "text/plain": [
       "5"
      ]
     },
     "execution_count": 6,
     "metadata": {},
     "output_type": "execute_result"
    }
   ],
   "source": [
    "from matplotlib import pyplot as plt\n",
    "def plot_image(image):\n",
    "    fig = plt.gcf() # 設定圖形大小\n",
    "    fig.set_size_inches(2, 2)\n",
    "    plt.imshow(image, cmap='binary') # 以黑白灰階顯示\n",
    "    plt.show()\n",
    "\n",
    "plot_image(X_train_image[0])\n",
    "y_train_label[0]"
   ]
  },
  {
   "cell_type": "code",
   "execution_count": 7,
   "metadata": {},
   "outputs": [],
   "source": [
    "# 宣告用來觀看圖片及預測結果的 function\n",
    "def plot_images_labels_prediction(images, labels, prediction, idx, num=10):\n",
    "    # images 數字影像, labels 真實的 label, prediction 預測結果\n",
    "    # idx 從哪個位置開始顯示資料, num 要顯示的資料筆數 \n",
    "    fig = plt.gcf()\n",
    "    fig.set_size_inches(12, 14)\n",
    "    if num > 25: num = 25\n",
    "    for i in range(0, num):\n",
    "        ax = plt.subplot(5,5, 1+i)\n",
    "        ax.imshow(images[idx], cmap='binary')\n",
    "        title = \"label=\" + str(labels[idx])\n",
    "        if len(prediction) > 0:\n",
    "            title += \", predict=\" + str(prediction[idx])\n",
    "\n",
    "        ax.set_title(title, fontsize=10)\n",
    "        ax.set_xticks([]) # 設定不顯示刻度\n",
    "        ax.set_yticks([])\n",
    "        idx+=1\n",
    "    plt.show()\n"
   ]
  },
  {
   "cell_type": "code",
   "execution_count": null,
   "metadata": {},
   "outputs": [],
   "source": [
    "    # images 數字影像, labels 真實的 label, prediction 預測結果\n",
    "    # idx 從哪個位置開始顯示資料, num 要顯示的資料筆數 \n",
    "    fig = plt.gcf()\n",
    "    fig.set_size_inches(12, 14)\n",
    "    if num > 25: num = 25\n",
    "    for i in range(0, num):\n",
    "        ax = plt.subplot(5,5, 1+i)\n",
    "        ax.imshow(images[idx], cmap='binary')\n",
    "        title = \"label=\" + str(labels[idx])\n",
    "        if len(prediction) > 0:\n",
    "            title += \", predict=\" + str(prediction[idx])\n",
    "\n",
    "        ax.set_title(title, fontsize=10)\n",
    "        ax.set_xticks([]) # 設定不顯示刻度\n",
    "        ax.set_yticks([])\n",
    "        idx+=1\n",
    "    plt.show()\n"
   ]
  },
  {
   "cell_type": "code",
   "execution_count": 8,
   "metadata": {},
   "outputs": [
    {
     "data": {
      "image/png": "[encoded data removed]",
      "text/plain": [
       "<Figure size 864x1008 with 10 Axes>"
      ]
     },
     "metadata": {},
     "output_type": "display_data"
    },
    {
     "name": "stdout",
     "output_type": "stream",
     "text": [
      "X_test_image:  (10000, 28, 28)\n",
      "y_test_label:  (10000,)\n"
     ]
    },
    {
     "data": {
      "image/png": "[encoded data removed]",
      "text/plain": [
       "<Figure size 864x1008 with 10 Axes>"
      ]
     },
     "metadata": {},
     "output_type": "display_data"
    }
   ],
   "source": [
    "# 查看多筆訓練資料 images 與 label\n",
    "import matplotlib.pyplot as plt\n",
    "\n",
    "# 查看前十筆訓練資料\n",
    "plot_images_labels_prediction(X_train_image, y_train_label, [], 0, 10)\n",
    "# 查看測試資料\n",
    "print('X_test_image: ', X_test_image.shape)\n",
    "print('y_test_label: ', y_test_label.shape)\n",
    "# 查看前十筆測試資料\n",
    "plot_images_labels_prediction(X_test_image, y_test_label, [], 0, 10)"
   ]
  },
  {
   "cell_type": "code",
   "execution_count": 10,
   "metadata": {},
   "outputs": [
    {
     "name": "stdout",
     "output_type": "stream",
     "text": [
      "x_Train: (60000, 784)\n",
      "x_Test (10000, 784)\n"
     ]
    }
   ],
   "source": [
    "# features (訓練資料的特徵值)預處理\n",
    "# 1. 將 28*28 的影像, reshape 為一維的向量, 長度變為 784, 並且轉換為 float\n",
    "x_Train = X_train_image.reshape(60000, 784).astype('float32')\n",
    "x_Test = X_test_image.reshape(10000, 784).astype('float32')\n",
    "print('x_Train:', x_Train.shape)\n",
    "print('x_Test', x_Test.shape)\n",
    "# 2. 將數字影像 image 的數字標準化\n",
    "# 數字標準化, 可以提高後續訓練模型的準確率\n",
    "x_Train_normalize = x_Train / 255\n",
    "x_Test_normalize = x_Test / 255\n",
    "\n",
    "# labels (真實的值)預處理\n",
    "# one-hot encoding\n",
    "# ex: 7 變為 00000001000 剛好對應 輸出層的 10個神經元\n",
    "y_TrainOneHot = np_utils.to_categorical(y_train_label)\n",
    "y_TestOneHot = np_utils.to_categorical(y_test_label)\n"
   ]
  },
  {
   "cell_type": "code",
   "execution_count": 12,
   "metadata": {},
   "outputs": [
    {
     "name": "stdout",
     "output_type": "stream",
     "text": [
      "Model: \"sequential_1\"\n",
      "_________________________________________________________________\n",
      "Layer (type)                 Output Shape              Param #   \n",
      "=================================================================\n",
      "dense_1 (Dense)              (None, 256)               200960    \n",
      "_________________________________________________________________\n",
      "dense_2 (Dense)              (None, 10)                2570      \n",
      "=================================================================\n",
      "Total params: 203,530\n",
      "Trainable params: 203,530\n",
      "Non-trainable params: 0\n",
      "_________________________________________________________________\n",
      "None\n"
     ]
    },
    {
     "name": "stderr",
     "output_type": "stream",
     "text": [
      "2022-05-04 14:17:41.743845: I tensorflow/core/platform/cpu_feature_guard.cc:145] This TensorFlow binary is optimized with Intel(R) MKL-DNN to use the following CPU instructions in performance critical operations:  SSE4.1 SSE4.2 AVX AVX2 AVX512F FMA\n",
      "To enable them in non-MKL-DNN operations, rebuild TensorFlow with the appropriate compiler flags.\n",
      "2022-05-04 14:17:41.744451: I tensorflow/core/common_runtime/process_util.cc:115] Creating new thread pool with default inter op setting: 8. Tune using inter_op_parallelism_threads for best performance.\n"
     ]
    }
   ],
   "source": [
    "# 建立模型\n",
    "# 輸入層(x) 共有 784 個神經元\n",
    "# 隱藏層(h1) 共有 256 個神經元\n",
    "# 輸出層(y) 共有 10 個神經元\n",
    "from keras.models import Sequential\n",
    "from keras.layers import Dense\n",
    "\n",
    "# 建立線性堆疊模型\n",
    "model = Sequential()\n",
    "\n",
    "# 建立並增加 輸入層(x) 及 隱藏層 (h1)\n",
    "model.add(Dense(units=256, input_dim=784, kernel_initializer='normal', activation='relu'))\n",
    "\n",
    "# kernel_initializer 使用 normal distribution 常態分佈的亂數, 初始化 weight(權重) 和 bias (偏差)\n",
    "\n",
    "# 建立輸出層 輸出層(y)\n",
    "# 不指定 input_dim, 會自己根據上一層的 unit(256), 設定這一層的 input_dim 為 256\n",
    "model.add(Dense(units=10, kernel_initializer='normal', activation='softmax'))\n",
    "\n",
    "# 查看模型摘要\n",
    "print(model.summary())"
   ]
  },
  {
   "cell_type": "code",
   "execution_count": 13,
   "metadata": {},
   "outputs": [],
   "source": [
    "# 新增一個 function, 用來以圖像方式顯示 train_history\n",
    "def show_train_history(train_history, train, validation):\n",
    "    plt.plot(train_history.history[train])\n",
    "    plt.plot(train_history.history[validation])\n",
    "    plt.title('Train History')\n",
    "    plt.ylabel(train)\n",
    "    plt.xlabel('Epoch')\n",
    "    plt.legend(['train', 'validation'], loc='upper left')\n",
    "    plt.show()\n",
    "    # train: 訓練資料的執行結果\n",
    "    # validation: 驗證資料的執行結果"
   ]
  },
  {
   "cell_type": "code",
   "execution_count": 18,
   "metadata": {},
   "outputs": [
    {
     "name": "stdout",
     "output_type": "stream",
     "text": [
      "Train on 48000 samples, validate on 12000 samples\n",
      "Epoch 1/100\n",
      " - 2s - loss: 0.0051 - accuracy: 0.9992 - val_loss: 0.0916 - val_accuracy: 0.9762\n",
      "Epoch 2/100\n",
      " - 2s - loss: 0.0037 - accuracy: 0.9996 - val_loss: 0.0878 - val_accuracy: 0.9793\n",
      "Epoch 3/100\n",
      " - 2s - loss: 0.0024 - accuracy: 0.9999 - val_loss: 0.0888 - val_accuracy: 0.9792\n",
      "Epoch 4/100\n",
      " - 2s - loss: 0.0021 - accuracy: 0.9999 - val_loss: 0.1004 - val_accuracy: 0.9766\n",
      "Epoch 5/100\n",
      " - 2s - loss: 0.0095 - accuracy: 0.9971 - val_loss: 0.0955 - val_accuracy: 0.9783\n",
      "Epoch 6/100\n",
      " - 2s - loss: 0.0021 - accuracy: 0.9999 - val_loss: 0.0924 - val_accuracy: 0.9793\n",
      "Epoch 7/100\n",
      " - 2s - loss: 9.9288e-04 - accuracy: 1.0000 - val_loss: 0.0921 - val_accuracy: 0.9798\n",
      "Epoch 8/100\n",
      " - 2s - loss: 7.1591e-04 - accuracy: 1.0000 - val_loss: 0.0920 - val_accuracy: 0.9798\n",
      "Epoch 9/100\n",
      " - 2s - loss: 5.8533e-04 - accuracy: 1.0000 - val_loss: 0.0937 - val_accuracy: 0.9796\n",
      "Epoch 10/100\n",
      " - 2s - loss: 5.1347e-04 - accuracy: 1.0000 - val_loss: 0.0946 - val_accuracy: 0.9798\n",
      "Epoch 11/100\n",
      " - 2s - loss: 4.6529e-04 - accuracy: 1.0000 - val_loss: 0.0942 - val_accuracy: 0.9802\n",
      "Epoch 12/100\n",
      " - 2s - loss: 4.1645e-04 - accuracy: 1.0000 - val_loss: 0.0953 - val_accuracy: 0.9803\n",
      "Epoch 13/100\n",
      " - 2s - loss: 3.7210e-04 - accuracy: 1.0000 - val_loss: 0.0965 - val_accuracy: 0.9798\n",
      "Epoch 14/100\n",
      " - 2s - loss: 3.3821e-04 - accuracy: 1.0000 - val_loss: 0.0970 - val_accuracy: 0.9803\n",
      "Epoch 15/100\n",
      " - 2s - loss: 3.1025e-04 - accuracy: 1.0000 - val_loss: 0.0986 - val_accuracy: 0.9804\n",
      "Epoch 16/100\n",
      " - 2s - loss: 3.1615e-04 - accuracy: 1.0000 - val_loss: 0.0978 - val_accuracy: 0.9806\n",
      "Epoch 17/100\n",
      " - 2s - loss: 2.6827e-04 - accuracy: 1.0000 - val_loss: 0.1012 - val_accuracy: 0.9805\n",
      "Epoch 18/100\n",
      " - 2s - loss: 0.0021 - accuracy: 0.9995 - val_loss: 0.1822 - val_accuracy: 0.9655\n",
      "Epoch 19/100\n",
      " - 2s - loss: 0.0211 - accuracy: 0.9931 - val_loss: 0.1156 - val_accuracy: 0.9774\n",
      "Epoch 20/100\n",
      " - 2s - loss: 0.0029 - accuracy: 0.9992 - val_loss: 0.1094 - val_accuracy: 0.9789\n",
      "Epoch 21/100\n",
      " - 2s - loss: 7.1024e-04 - accuracy: 1.0000 - val_loss: 0.1042 - val_accuracy: 0.9789\n",
      "Epoch 22/100\n",
      " - 2s - loss: 3.4877e-04 - accuracy: 1.0000 - val_loss: 0.1041 - val_accuracy: 0.9800\n",
      "Epoch 23/100\n",
      " - 2s - loss: 2.7767e-04 - accuracy: 1.0000 - val_loss: 0.1046 - val_accuracy: 0.9798\n",
      "Epoch 24/100\n",
      " - 2s - loss: 2.4314e-04 - accuracy: 1.0000 - val_loss: 0.1050 - val_accuracy: 0.9800\n",
      "Epoch 25/100\n",
      " - 2s - loss: 2.1831e-04 - accuracy: 1.0000 - val_loss: 0.1057 - val_accuracy: 0.9797\n",
      "Epoch 26/100\n",
      " - 2s - loss: 1.9728e-04 - accuracy: 1.0000 - val_loss: 0.1050 - val_accuracy: 0.9804\n",
      "Epoch 27/100\n",
      " - 2s - loss: 1.8354e-04 - accuracy: 1.0000 - val_loss: 0.1061 - val_accuracy: 0.9800\n",
      "Epoch 28/100\n",
      " - 2s - loss: 1.6632e-04 - accuracy: 1.0000 - val_loss: 0.1064 - val_accuracy: 0.9803\n",
      "Epoch 29/100\n",
      " - 2s - loss: 1.5445e-04 - accuracy: 1.0000 - val_loss: 0.1063 - val_accuracy: 0.9799\n",
      "Epoch 30/100\n",
      " - 2s - loss: 1.4106e-04 - accuracy: 1.0000 - val_loss: 0.1066 - val_accuracy: 0.9804\n",
      "Epoch 31/100\n",
      " - 2s - loss: 1.2904e-04 - accuracy: 1.0000 - val_loss: 0.1081 - val_accuracy: 0.9801\n",
      "Epoch 32/100\n",
      " - 2s - loss: 1.1892e-04 - accuracy: 1.0000 - val_loss: 0.1080 - val_accuracy: 0.9808\n",
      "Epoch 33/100\n",
      " - 2s - loss: 1.0981e-04 - accuracy: 1.0000 - val_loss: 0.1082 - val_accuracy: 0.9808\n",
      "Epoch 34/100\n",
      " - 2s - loss: 1.0168e-04 - accuracy: 1.0000 - val_loss: 0.1089 - val_accuracy: 0.9805\n",
      "Epoch 35/100\n",
      " - 2s - loss: 9.3024e-05 - accuracy: 1.0000 - val_loss: 0.1096 - val_accuracy: 0.9808\n",
      "Epoch 36/100\n",
      " - 2s - loss: 8.7380e-05 - accuracy: 1.0000 - val_loss: 0.1101 - val_accuracy: 0.9808\n",
      "Epoch 37/100\n",
      " - 2s - loss: 7.9452e-05 - accuracy: 1.0000 - val_loss: 0.1106 - val_accuracy: 0.9807\n",
      "Epoch 38/100\n",
      " - 2s - loss: 7.3806e-05 - accuracy: 1.0000 - val_loss: 0.1111 - val_accuracy: 0.9808\n",
      "Epoch 39/100\n",
      " - 2s - loss: 6.7837e-05 - accuracy: 1.0000 - val_loss: 0.1113 - val_accuracy: 0.9810\n",
      "Epoch 40/100\n",
      " - 2s - loss: 6.1651e-05 - accuracy: 1.0000 - val_loss: 0.1138 - val_accuracy: 0.9807\n",
      "Epoch 41/100\n",
      " - 2s - loss: 5.7468e-05 - accuracy: 1.0000 - val_loss: 0.1134 - val_accuracy: 0.9806\n",
      "Epoch 42/100\n",
      " - 2s - loss: 5.2183e-05 - accuracy: 1.0000 - val_loss: 0.1137 - val_accuracy: 0.9806\n",
      "Epoch 43/100\n",
      " - 2s - loss: 4.7739e-05 - accuracy: 1.0000 - val_loss: 0.1141 - val_accuracy: 0.9810\n",
      "Epoch 44/100\n",
      " - 2s - loss: 4.4396e-05 - accuracy: 1.0000 - val_loss: 0.1151 - val_accuracy: 0.9808\n",
      "Epoch 45/100\n",
      " - 2s - loss: 4.0530e-05 - accuracy: 1.0000 - val_loss: 0.1165 - val_accuracy: 0.9803\n",
      "Epoch 46/100\n",
      " - 2s - loss: 3.6303e-05 - accuracy: 1.0000 - val_loss: 0.1167 - val_accuracy: 0.9804\n",
      "Epoch 47/100\n",
      " - 2s - loss: 3.2940e-05 - accuracy: 1.0000 - val_loss: 0.1177 - val_accuracy: 0.9807\n",
      "Epoch 48/100\n",
      " - 2s - loss: 3.0266e-05 - accuracy: 1.0000 - val_loss: 0.1197 - val_accuracy: 0.9805\n",
      "Epoch 49/100\n",
      " - 2s - loss: 2.7180e-05 - accuracy: 1.0000 - val_loss: 0.1191 - val_accuracy: 0.9805\n",
      "Epoch 50/100\n",
      " - 2s - loss: 2.4798e-05 - accuracy: 1.0000 - val_loss: 0.1196 - val_accuracy: 0.9803\n",
      "Epoch 51/100\n",
      " - 2s - loss: 2.2213e-05 - accuracy: 1.0000 - val_loss: 0.1208 - val_accuracy: 0.9805\n",
      "Epoch 52/100\n",
      " - 2s - loss: 2.1169e-05 - accuracy: 1.0000 - val_loss: 0.1235 - val_accuracy: 0.9803\n",
      "Epoch 53/100\n",
      " - 2s - loss: 1.9439e-05 - accuracy: 1.0000 - val_loss: 0.1238 - val_accuracy: 0.9803\n",
      "Epoch 54/100\n",
      " - 2s - loss: 1.7606e-05 - accuracy: 1.0000 - val_loss: 0.1253 - val_accuracy: 0.9801\n",
      "Epoch 55/100\n",
      " - 2s - loss: 0.0207 - accuracy: 0.9944 - val_loss: 0.1390 - val_accuracy: 0.9765\n",
      "Epoch 56/100\n",
      " - 2s - loss: 0.0028 - accuracy: 0.9991 - val_loss: 0.1299 - val_accuracy: 0.9783\n",
      "Epoch 57/100\n",
      " - 2s - loss: 7.2680e-04 - accuracy: 0.9999 - val_loss: 0.1268 - val_accuracy: 0.9793\n",
      "Epoch 58/100\n",
      " - 2s - loss: 1.3162e-04 - accuracy: 1.0000 - val_loss: 0.1261 - val_accuracy: 0.9789\n",
      "Epoch 59/100\n",
      " - 2s - loss: 8.6500e-05 - accuracy: 1.0000 - val_loss: 0.1260 - val_accuracy: 0.9788\n",
      "Epoch 60/100\n",
      " - 2s - loss: 7.4258e-05 - accuracy: 1.0000 - val_loss: 0.1259 - val_accuracy: 0.9789\n",
      "Epoch 61/100\n",
      " - 2s - loss: 6.6166e-05 - accuracy: 1.0000 - val_loss: 0.1262 - val_accuracy: 0.9790\n",
      "Epoch 62/100\n",
      " - 2s - loss: 5.9356e-05 - accuracy: 1.0000 - val_loss: 0.1263 - val_accuracy: 0.9793\n",
      "Epoch 63/100\n",
      " - 2s - loss: 5.4525e-05 - accuracy: 1.0000 - val_loss: 0.1266 - val_accuracy: 0.9791\n",
      "Epoch 64/100\n",
      " - 2s - loss: 4.9789e-05 - accuracy: 1.0000 - val_loss: 0.1267 - val_accuracy: 0.9793\n",
      "Epoch 65/100\n",
      " - 2s - loss: 4.5889e-05 - accuracy: 1.0000 - val_loss: 0.1271 - val_accuracy: 0.9793\n",
      "Epoch 66/100\n",
      " - 2s - loss: 4.2373e-05 - accuracy: 1.0000 - val_loss: 0.1272 - val_accuracy: 0.9795\n",
      "Epoch 67/100\n",
      " - 2s - loss: 3.9221e-05 - accuracy: 1.0000 - val_loss: 0.1276 - val_accuracy: 0.9789\n",
      "Epoch 68/100\n",
      " - 2s - loss: 3.6410e-05 - accuracy: 1.0000 - val_loss: 0.1279 - val_accuracy: 0.9793\n",
      "Epoch 69/100\n",
      " - 2s - loss: 3.3799e-05 - accuracy: 1.0000 - val_loss: 0.1283 - val_accuracy: 0.9793\n",
      "Epoch 70/100\n",
      " - 2s - loss: 3.1347e-05 - accuracy: 1.0000 - val_loss: 0.1285 - val_accuracy: 0.9793\n",
      "Epoch 71/100\n",
      " - 2s - loss: 2.9143e-05 - accuracy: 1.0000 - val_loss: 0.1289 - val_accuracy: 0.9793\n",
      "Epoch 72/100\n",
      " - 2s - loss: 2.7150e-05 - accuracy: 1.0000 - val_loss: 0.1293 - val_accuracy: 0.9792\n",
      "Epoch 73/100\n",
      " - 2s - loss: 2.5156e-05 - accuracy: 1.0000 - val_loss: 0.1296 - val_accuracy: 0.9794\n",
      "Epoch 74/100\n",
      " - 2s - loss: 2.3453e-05 - accuracy: 1.0000 - val_loss: 0.1300 - val_accuracy: 0.9793\n",
      "Epoch 75/100\n",
      " - 2s - loss: 2.1715e-05 - accuracy: 1.0000 - val_loss: 0.1304 - val_accuracy: 0.9795\n",
      "Epoch 76/100\n",
      " - 2s - loss: 2.0226e-05 - accuracy: 1.0000 - val_loss: 0.1309 - val_accuracy: 0.9797\n",
      "Epoch 77/100\n",
      " - 2s - loss: 1.8814e-05 - accuracy: 1.0000 - val_loss: 0.1311 - val_accuracy: 0.9796\n",
      "Epoch 78/100\n",
      " - 2s - loss: 1.7513e-05 - accuracy: 1.0000 - val_loss: 0.1312 - val_accuracy: 0.9793\n",
      "Epoch 79/100\n",
      " - 2s - loss: 1.6229e-05 - accuracy: 1.0000 - val_loss: 0.1317 - val_accuracy: 0.9796\n",
      "Epoch 80/100\n",
      " - 2s - loss: 1.5169e-05 - accuracy: 1.0000 - val_loss: 0.1319 - val_accuracy: 0.9789\n",
      "Epoch 81/100\n",
      " - 2s - loss: 1.3977e-05 - accuracy: 1.0000 - val_loss: 0.1329 - val_accuracy: 0.9793\n",
      "Epoch 82/100\n",
      " - 2s - loss: 1.2973e-05 - accuracy: 1.0000 - val_loss: 0.1331 - val_accuracy: 0.9794\n",
      "Epoch 83/100\n",
      " - 2s - loss: 1.2046e-05 - accuracy: 1.0000 - val_loss: 0.1333 - val_accuracy: 0.9793\n",
      "Epoch 84/100\n",
      " - 2s - loss: 1.1230e-05 - accuracy: 1.0000 - val_loss: 0.1340 - val_accuracy: 0.9791\n",
      "Epoch 85/100\n",
      " - 2s - loss: 1.0380e-05 - accuracy: 1.0000 - val_loss: 0.1346 - val_accuracy: 0.9789\n",
      "Epoch 86/100\n",
      " - 2s - loss: 9.5334e-06 - accuracy: 1.0000 - val_loss: 0.1349 - val_accuracy: 0.9791\n",
      "Epoch 87/100\n",
      " - 2s - loss: 8.8590e-06 - accuracy: 1.0000 - val_loss: 0.1351 - val_accuracy: 0.9794\n",
      "Epoch 88/100\n",
      " - 2s - loss: 8.1710e-06 - accuracy: 1.0000 - val_loss: 0.1355 - val_accuracy: 0.9794\n",
      "Epoch 89/100\n",
      " - 2s - loss: 7.5448e-06 - accuracy: 1.0000 - val_loss: 0.1366 - val_accuracy: 0.9793\n",
      "Epoch 90/100\n",
      " - 2s - loss: 6.9883e-06 - accuracy: 1.0000 - val_loss: 0.1370 - val_accuracy: 0.9793\n",
      "Epoch 91/100\n",
      " - 2s - loss: 6.3959e-06 - accuracy: 1.0000 - val_loss: 0.1383 - val_accuracy: 0.9794\n",
      "Epoch 92/100\n",
      " - 2s - loss: 5.9351e-06 - accuracy: 1.0000 - val_loss: 0.1385 - val_accuracy: 0.9795\n",
      "Epoch 93/100\n",
      " - 2s - loss: 5.5177e-06 - accuracy: 1.0000 - val_loss: 0.1386 - val_accuracy: 0.9794\n",
      "Epoch 94/100\n",
      " - 2s - loss: 5.0073e-06 - accuracy: 1.0000 - val_loss: 0.1391 - val_accuracy: 0.9795\n",
      "Epoch 95/100\n",
      " - 2s - loss: 4.6523e-06 - accuracy: 1.0000 - val_loss: 0.1396 - val_accuracy: 0.9794\n",
      "Epoch 96/100\n",
      " - 2s - loss: 4.2134e-06 - accuracy: 1.0000 - val_loss: 0.1401 - val_accuracy: 0.9798\n",
      "Epoch 97/100\n",
      " - 2s - loss: 3.8400e-06 - accuracy: 1.0000 - val_loss: 0.1411 - val_accuracy: 0.9797\n",
      "Epoch 98/100\n",
      " - 2s - loss: 3.5225e-06 - accuracy: 1.0000 - val_loss: 0.1415 - val_accuracy: 0.9798\n",
      "Epoch 99/100\n",
      " - 2s - loss: 3.2497e-06 - accuracy: 1.0000 - val_loss: 0.1422 - val_accuracy: 0.9799\n",
      "Epoch 100/100\n",
      " - 2s - loss: 3.0066e-06 - accuracy: 1.0000 - val_loss: 0.1439 - val_accuracy: 0.9801\n"
     ]
    },
    {
     "data": {
      "image/png": "[encoded data removed]",
      "text/plain": [
       "<Figure size 432x288 with 1 Axes>"
      ]
     },
     "metadata": {
      "needs_background": "light"
     },
     "output_type": "display_data"
    }
   ],
   "source": [
    "# 進行訓練\n",
    "# 定義模型的訓練方式\n",
    "model.compile(loss='categorical_crossentropy', optimizer='adam', metrics=['accuracy'])\n",
    "# loss: 設定損失參數(loss function), \n",
    "# optimizer: 設定訓練時的最佳化方法\n",
    "# metrics: 設定用何種方式來評估模型\n",
    "\n",
    "# 開始訓練\n",
    "train_history = model.fit(x=x_Train_normalize,\n",
    "                          y=y_TrainOneHot, validation_split=0.2,\n",
    "                          epochs=100, batch_size=200, verbose=2)\n",
    "# x: features, y: labels\n",
    "# validation_split: 設定訓練資料與驗證資料的比例(0.2即表示驗證資料 20%)\n",
    "# epochs: 執行幾個訓練週期\n",
    "# batch_size: 每一批次訓練幾筆 \n",
    "# verbose: 顯示訓練過程\n",
    "\n",
    "# 資料總共 60000萬筆, 分成訓練資料 48000 + 驗證資料 12000\n",
    "# 48000筆, 每一批次訓練 200筆, 分成 48000/200 = 240批次訓練\n",
    "\n",
    "show_train_history(train_history, 'accuracy', 'val_accuracy')"
   ]
  },
  {
   "cell_type": "code",
   "execution_count": 19,
   "metadata": {},
   "outputs": [
    {
     "name": "stdout",
     "output_type": "stream",
     "text": [
      "10000/10000 [==============================] - 0s 47us/step\n",
      "\n",
      "accuracy= 0.9811999797821045\n"
     ]
    }
   ],
   "source": [
    "# 以測試資料評估模型準確率\n",
    "scores = model.evaluate(x_Test_normalize, y_TestOneHot)\n",
    "print()\n",
    "print('accuracy=', scores[1])"
   ]
  },
  {
   "cell_type": "code",
   "execution_count": 20,
   "metadata": {},
   "outputs": [
    {
     "data": {
      "image/png": "[encoded data removed]",
      "text/plain": [
       "<Figure size 864x1008 with 10 Axes>"
      ]
     },
     "metadata": {},
     "output_type": "display_data"
    }
   ],
   "source": [
    "# 進行預測\n",
    "prediction = model.predict_classes(x_Test)\n",
    "prediction\n",
    "\n",
    "plot_images_labels_prediction(X_test_image, y_test_label, prediction, idx=340)"
   ]
  }
 ],
 "metadata": {
  "interpreter": {
   "hash": "a03afdb4a92e3aa0bdfbac5a80009a82de5fa524d62eb8856768c9daf60392cd"
  },
  "kernelspec": {
   "display_name": "Python 3.7.13 ('learning_env')",
   "language": "python",
   "name": "python3"
  },
  "language_info": {
   "codemirror_mode": {
    "name": "ipython",
    "version": 3
   },
   "file_extension": ".py",
   "mimetype": "text/x-python",
   "name": "python",
   "nbconvert_exporter": "python",
   "pygments_lexer": "ipython3",
   "version": "3.7.13"
  },
  "orig_nbformat": 4
 },
 "nbformat": 4,
 "nbformat_minor": 2
}
