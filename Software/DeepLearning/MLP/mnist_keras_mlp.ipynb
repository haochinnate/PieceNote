{
 "cells": [
  {
   "cell_type": "code",
   "execution_count": 7,
   "metadata": {},
   "outputs": [],
   "source": [
    "import tensorflow as tf\n",
    "import keras"
   ]
  },
  {
   "cell_type": "code",
   "execution_count": 8,
   "metadata": {},
   "outputs": [
    {
     "name": "stdout",
     "output_type": "stream",
     "text": [
      "train data= 60000\n",
      "test data= 10000\n"
     ]
    }
   ],
   "source": [
    "# 下載 MNIST 資料\n",
    "import numpy as np\n",
    "import pandas as pd\n",
    "from keras.utils import np_utils\n",
    "np.random.seed(10)\n",
    "\n",
    "from keras.datasets import mnist\n",
    "(X_train_image, y_train_label), (X_test_image, y_test_label) = mnist.load_data()\n",
    "print('train data=', len(X_train_image))\n",
    "print('test data=', len(X_test_image))"
   ]
  },
  {
   "cell_type": "code",
   "execution_count": 9,
   "metadata": {},
   "outputs": [
    {
     "name": "stdout",
     "output_type": "stream",
     "text": [
      "X_train_image:  (60000, 28, 28)\n",
      "y_train_label:  (60000,)\n"
     ]
    }
   ],
   "source": [
    "# 查看訓練資料\n",
    "print('X_train_image: ', X_train_image.shape)\n",
    "print('y_train_label: ', y_train_label.shape)"
   ]
  },
  {
   "cell_type": "code",
   "execution_count": 10,
   "metadata": {},
   "outputs": [
    {
     "data": {
      "image/png": "[encoded data removed]",
      "text/plain": [
       "<Figure size 144x144 with 1 Axes>"
      ]
     },
     "metadata": {
      "needs_background": "light"
     },
     "output_type": "display_data"
    },
    {
     "data": {
      "text/plain": [
       "5"
      ]
     },
     "execution_count": 10,
     "metadata": {},
     "output_type": "execute_result"
    }
   ],
   "source": [
    "from matplotlib import pyplot as plt\n",
    "def plot_image(image):\n",
    "    fig = plt.gcf() # 設定圖形大小\n",
    "    fig.set_size_inches(2, 2)\n",
    "    plt.imshow(image, cmap='binary') # 以黑白灰階顯示\n",
    "    plt.show()\n",
    "\n",
    "plot_image(X_train_image[0])\n",
    "y_train_label[0]"
   ]
  },
  {
   "cell_type": "code",
   "execution_count": 11,
   "metadata": {},
   "outputs": [],
   "source": [
    "# 宣告用來觀看圖片及預測結果的 function\n",
    "def plot_images_labels_prediction(images, labels, prediction, idx, num=10):\n",
    "    # images 數字影像, labels 真實的 label, prediction 預測結果\n",
    "    # idx 從哪個位置開始顯示資料, num 要顯示的資料筆數 \n",
    "    fig = plt.gcf()\n",
    "    fig.set_size_inches(12, 14)\n",
    "    if num > 25: num = 25\n",
    "    for i in range(0, num):\n",
    "        ax = plt.subplot(5,5, 1+i)\n",
    "        ax.imshow(images[idx], cmap='binary')\n",
    "        title = \"label=\" + str(labels[idx])\n",
    "        if len(prediction) > 0:\n",
    "            title += \", predict=\" + str(prediction[idx])\n",
    "\n",
    "        ax.set_title(title, fontsize=10)\n",
    "        ax.set_xticks([]) # 設定不顯示刻度\n",
    "        ax.set_yticks([])\n",
    "        idx+=1\n",
    "    plt.show()\n"
   ]
  },
  {
   "cell_type": "code",
   "execution_count": 12,
   "metadata": {},
   "outputs": [
    {
     "data": {
      "image/png": "[encoded data removed]",
      "text/plain": [
       "<Figure size 864x1008 with 10 Axes>"
      ]
     },
     "metadata": {},
     "output_type": "display_data"
    },
    {
     "name": "stdout",
     "output_type": "stream",
     "text": [
      "X_test_image:  (10000, 28, 28)\n",
      "y_test_label:  (10000,)\n"
     ]
    },
    {
     "data": {
      "image/png": "[encoded data removed]",
      "text/plain": [
       "<Figure size 864x1008 with 10 Axes>"
      ]
     },
     "metadata": {},
     "output_type": "display_data"
    }
   ],
   "source": [
    "# 查看多筆訓練資料 images 與 label\n",
    "import matplotlib.pyplot as plt\n",
    "\n",
    "# 查看前十筆訓練資料\n",
    "plot_images_labels_prediction(X_train_image, y_train_label, [], 0, 10)\n",
    "# 查看測試資料\n",
    "print('X_test_image: ', X_test_image.shape)\n",
    "print('y_test_label: ', y_test_label.shape)\n",
    "# 查看前十筆測試資料\n",
    "plot_images_labels_prediction(X_test_image, y_test_label, [], 0, 10)"
   ]
  },
  {
   "cell_type": "code",
   "execution_count": 13,
   "metadata": {},
   "outputs": [
    {
     "name": "stdout",
     "output_type": "stream",
     "text": [
      "x_Train: (60000, 784)\n",
      "x_Test (10000, 784)\n"
     ]
    }
   ],
   "source": [
    "# features (訓練資料的特徵值)預處理\n",
    "# 1. 將 28*28 的影像, reshape 為一維的向量, 長度變為 784, 並且轉換為 float\n",
    "x_Train = X_train_image.reshape(60000, 784).astype('float32')\n",
    "x_Test = X_test_image.reshape(10000, 784).astype('float32')\n",
    "print('x_Train:', x_Train.shape)\n",
    "print('x_Test', x_Test.shape)\n",
    "# 2. 將數字影像 image 的數字標準化\n",
    "# 數字標準化, 可以提高後續訓練模型的準確率\n",
    "x_Train_normalize = x_Train / 255\n",
    "x_Test_normalize = x_Test / 255\n",
    "\n",
    "# labels (真實的值)預處理\n",
    "# one-hot encoding\n",
    "# ex: 7 變為 00000001000 剛好對應 輸出層的 10個神經元\n",
    "y_TrainOneHot = np_utils.to_categorical(y_train_label)\n",
    "y_TestOneHot = np_utils.to_categorical(y_test_label)\n"
   ]
  },
  {
   "cell_type": "code",
   "execution_count": 14,
   "metadata": {},
   "outputs": [
    {
     "name": "stdout",
     "output_type": "stream",
     "text": [
      "Model: \"sequential_1\"\n",
      "_________________________________________________________________\n",
      "Layer (type)                 Output Shape              Param #   \n",
      "=================================================================\n",
      "dense_1 (Dense)              (None, 256)               200960    \n",
      "_________________________________________________________________\n",
      "dense_2 (Dense)              (None, 10)                2570      \n",
      "=================================================================\n",
      "Total params: 203,530\n",
      "Trainable params: 203,530\n",
      "Non-trainable params: 0\n",
      "_________________________________________________________________\n",
      "None\n"
     ]
    },
    {
     "name": "stderr",
     "output_type": "stream",
     "text": [
      "2022-05-10 17:26:36.195143: I tensorflow/core/platform/cpu_feature_guard.cc:145] This TensorFlow binary is optimized with Intel(R) MKL-DNN to use the following CPU instructions in performance critical operations:  SSE4.1 SSE4.2 AVX AVX2 AVX512F FMA\n",
      "To enable them in non-MKL-DNN operations, rebuild TensorFlow with the appropriate compiler flags.\n",
      "2022-05-10 17:26:36.197805: I tensorflow/core/common_runtime/process_util.cc:115] Creating new thread pool with default inter op setting: 8. Tune using inter_op_parallelism_threads for best performance.\n"
     ]
    }
   ],
   "source": [
    "# 建立模型\n",
    "# 輸入層(x) 共有 784 個神經元\n",
    "# 隱藏層(h1) 共有 256 個神經元\n",
    "# 輸出層(y) 共有 10 個神經元\n",
    "from keras.models import Sequential\n",
    "from keras.layers import Dense\n",
    "\n",
    "# 建立線性堆疊模型\n",
    "model = Sequential()\n",
    "\n",
    "# 建立並增加 輸入層(x) 及 隱藏層 (h1)\n",
    "model.add(Dense(units=256, input_dim=784, kernel_initializer='normal', activation='relu'))\n",
    "\n",
    "# kernel_initializer 使用 normal distribution 常態分佈的亂數, 初始化 weight(權重) 和 bias (偏差)\n",
    "\n",
    "# 建立輸出層 輸出層(y)\n",
    "# 不指定 input_dim, 會自己根據上一層的 unit(256), 設定這一層的 input_dim 為 256\n",
    "model.add(Dense(units=10, kernel_initializer='normal', activation='softmax'))\n",
    "\n",
    "# 查看模型摘要\n",
    "print(model.summary())"
   ]
  },
  {
   "cell_type": "code",
   "execution_count": 15,
   "metadata": {},
   "outputs": [],
   "source": [
    "# 新增一個 function, 用來以圖像方式顯示 train_history\n",
    "def show_train_history(train_history, train, validation):\n",
    "    plt.plot(train_history.history[train])\n",
    "    plt.plot(train_history.history[validation])\n",
    "    plt.title('Train History')\n",
    "    plt.ylabel(train)\n",
    "    plt.xlabel('Epoch')\n",
    "    plt.legend(['train', 'validation'], loc='upper left')\n",
    "    plt.show()\n",
    "    # train: 訓練資料的執行結果\n",
    "    # validation: 驗證資料的執行結果"
   ]
  },
  {
   "cell_type": "code",
   "execution_count": 16,
   "metadata": {},
   "outputs": [
    {
     "name": "stdout",
     "output_type": "stream",
     "text": [
      "Train on 48000 samples, validate on 12000 samples\n",
      "Epoch 1/10\n",
      " - 2s - loss: 0.4383 - accuracy: 0.8829 - val_loss: 0.2183 - val_accuracy: 0.9405\n",
      "Epoch 2/10\n",
      " - 2s - loss: 0.1912 - accuracy: 0.9455 - val_loss: 0.1559 - val_accuracy: 0.9553\n",
      "Epoch 3/10\n",
      " - 2s - loss: 0.1356 - accuracy: 0.9617 - val_loss: 0.1262 - val_accuracy: 0.9651\n",
      "Epoch 4/10\n",
      " - 2s - loss: 0.1029 - accuracy: 0.9702 - val_loss: 0.1119 - val_accuracy: 0.9685\n",
      "Epoch 5/10\n",
      " - 2s - loss: 0.0812 - accuracy: 0.9772 - val_loss: 0.0983 - val_accuracy: 0.9719\n",
      "Epoch 6/10\n",
      " - 2s - loss: 0.0661 - accuracy: 0.9819 - val_loss: 0.0936 - val_accuracy: 0.9722\n",
      "Epoch 7/10\n",
      " - 2s - loss: 0.0545 - accuracy: 0.9851 - val_loss: 0.0912 - val_accuracy: 0.9738\n",
      "Epoch 8/10\n",
      " - 2s - loss: 0.0460 - accuracy: 0.9876 - val_loss: 0.0836 - val_accuracy: 0.9758\n",
      "Epoch 9/10\n",
      " - 2s - loss: 0.0383 - accuracy: 0.9900 - val_loss: 0.0825 - val_accuracy: 0.9764\n",
      "Epoch 10/10\n",
      " - 2s - loss: 0.0318 - accuracy: 0.9916 - val_loss: 0.0814 - val_accuracy: 0.9764\n"
     ]
    },
    {
     "data": {
      "image/png": "[encoded data removed]",
      "text/plain": [
       "<Figure size 432x288 with 1 Axes>"
      ]
     },
     "metadata": {
      "needs_background": "light"
     },
     "output_type": "display_data"
    }
   ],
   "source": [
    "# 進行訓練\n",
    "# 定義模型的訓練方式\n",
    "model.compile(loss='categorical_crossentropy', optimizer='adam', metrics=['accuracy'])\n",
    "# loss: 設定損失參數(loss function), \n",
    "# optimizer: 設定訓練時的最佳化方法\n",
    "# metrics: 設定用何種方式來評估模型\n",
    "\n",
    "# 開始訓練\n",
    "train_history = model.fit(x=x_Train_normalize,\n",
    "                          y=y_TrainOneHot, validation_split=0.2,\n",
    "                          epochs=10, batch_size=200, verbose=2)\n",
    "# x: features, y: labels\n",
    "# validation_split: 設定訓練資料與驗證資料的比例(0.2即表示驗證資料 20%)\n",
    "# epochs: 執行幾個訓練週期\n",
    "# batch_size: 每一批次訓練幾筆 \n",
    "# verbose: 顯示訓練過程\n",
    "\n",
    "# 資料總共 60000萬筆, 分成訓練資料 48000 + 驗證資料 12000\n",
    "# 48000筆, 每一批次訓練 200筆, 分成 48000/200 = 240批次訓練\n",
    "\n",
    "show_train_history(train_history, 'accuracy', 'val_accuracy')"
   ]
  },
  {
   "cell_type": "code",
   "execution_count": 17,
   "metadata": {},
   "outputs": [
    {
     "name": "stdout",
     "output_type": "stream",
     "text": [
      "10000/10000 [==============================] - 1s 52us/step\n",
      "\n",
      "accuracy= 0.9757999777793884\n"
     ]
    }
   ],
   "source": [
    "# 以測試資料評估模型準確率\n",
    "scores = model.evaluate(x_Test_normalize, y_TestOneHot)\n",
    "print()\n",
    "print('accuracy=', scores[1])"
   ]
  },
  {
   "cell_type": "code",
   "execution_count": 20,
   "metadata": {},
   "outputs": [
    {
     "name": "stdout",
     "output_type": "stream",
     "text": [
      "[7 2 1 ... 4 5 6]\n",
      "error= 2.37\n"
     ]
    },
    {
     "data": {
      "image/png": "[encoded data removed]",
      "text/plain": [
       "<Figure size 864x1008 with 10 Axes>"
      ]
     },
     "metadata": {},
     "output_type": "display_data"
    }
   ],
   "source": [
    "# 進行預測\n",
    "prediction = model.predict_classes(x_Test)\n",
    "prediction\n",
    "print(prediction)\n",
    "predict_array = np.array(prediction)\n",
    "actual_array = np.array(y_test_label)\n",
    "error = np.mean(predict_array != actual_array)\n",
    "print('error=', error*100)\n",
    "plot_images_labels_prediction(X_test_image, y_test_label, prediction, idx=340)"
   ]
  }
 ],
 "metadata": {
  "interpreter": {
   "hash": "a03afdb4a92e3aa0bdfbac5a80009a82de5fa524d62eb8856768c9daf60392cd"
  },
  "kernelspec": {
   "display_name": "Python 3.7.13 ('learning_env')",
   "language": "python",
   "name": "python3"
  },
  "language_info": {
   "codemirror_mode": {
    "name": "ipython",
    "version": 3
   },
   "file_extension": ".py",
   "mimetype": "text/x-python",
   "name": "python",
   "nbconvert_exporter": "python",
   "pygments_lexer": "ipython3",
   "version": "3.7.13"
  },
  "orig_nbformat": 4
 },
 "nbformat": 4,
 "nbformat_minor": 2
}
